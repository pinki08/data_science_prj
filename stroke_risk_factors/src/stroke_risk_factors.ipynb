{
 "cells": [
  {
   "cell_type": "markdown",
   "id": "0cf02bd1",
   "metadata": {},
   "source": [
    "<img src = \"https://www.hh.se/images/18.4ad3d9ee1656d0f05ef643a3/1550842090193/hh-logo.svg\" width = \"150\" align = \"left\">  \n",
    "<br/>\n",
    "<br/>\n",
    "    \n",
    "# Python, a Gateway to Machine Learning\n",
    "\n",
    "<!--\n",
    "<center> <img src = \"https://www.link.cs.cmu.edu/splay/tree5.jpg\" width = \"200\"></center>\n",
    "<center><i>A Self-Adjusting Search Tree</i></center>\n",
    "<center><i>by Jorge Stolfi</i></center>\n",
    "<br>\n",
    "-->\n",
    "\n",
    "## Project: Asking questions to data using Pandas and NumPy\n",
    "\n",
    "### Introduction\n",
    "\n",
    "This is a Juypyter notebook that contains text and links for the last assignment of the course. The assignmement is designed as a project: an open ended task that allows you to apply what you learned about Python including Pandas and NumPy to ask questions and find answers to questions of social relevance. \n",
    "\n",
    "The topics you can choose are\n",
    "*  climate change and its consequences,\n",
    "* health care and its consequences or\n",
    "* education and its consequences\n",
    "\n",
    "\n",
    "On completion of your project this notebook should include the following parts:\n",
    "\n",
    "* An introduction to what it is that you want to explore. \n",
    "\n",
    "* A description of the data sets that you use, including the sources and what kind of data they include.\n",
    "\n",
    "* A section for loading the data (possibly from several data sets) including  code to explore and possibly clean or reorganize the data so that you can use it for the rest of the problem.\n",
    "      \n",
    "* A section that asks one or more questions that can be answered by exploring, combining, transforming the data.\n",
    "\n",
    "      \n",
    "* A section with programs for the questions.\n",
    "\n",
    "\n",
    "* A section with an analysis of the results of your programs to explain the answers to your questions.\n",
    "\n",
    "In each part there can be several cells, both code and markdown. But each section has to start with a markdown cell including at least the title of the section: you will find these cells with a little explanation alredy in the notebook.\n",
    "\n",
    "\n",
    "\n",
    "This project is part of the examination of the course. There are instructions on how to submit, including deadlines and advice, in the Blackboard site for the course. Please follow these instructions. There you can also see what is needed in order to pass. \n",
    "\n"
   ]
  },
  {
   "cell_type": "markdown",
   "id": "0b0d9e42",
   "metadata": {},
   "source": [
    "#  Identify the risk factors of stroke\n",
    "\n",
    "A stroke is a serious life-threatening medical condition that happens when the blood supply to part of the brain is cut off. So here in this project, we will try to visulize some key indicators that lead to stop the supply of blood in the body.The risk factors could be age , bmi(body mass index), lifestyle of the person and some other heart diseases problem the person has occured.\n",
    "Can we say that age is related to the stroke? Can we analyse that older patients are more likely to suffer a stroke than a younger patient? A patient who already has hypertension problem has more chance of stroke.Can hypertension be one of the factor in stroke?"
   ]
  },
  {
   "cell_type": "markdown",
   "id": "a825a3c5",
   "metadata": {},
   "source": [
    "## Data sources\n",
    "\n",
    "In this project we are using “stroke predication dataset” which is  a stroke prediction dataset from Kaggle and here is the link of this dataset https://www.kaggle.com/datasets/fedesoriano/stroke-prediction-dataset .In this dataset the  data is stored and displayed in  a table format(a xls file).It contains 5110 observations (rows) with 12 attributes (columns). Each observation corresponds to one patient, and the attributes are variables about the health status of each patient."
   ]
  },
  {
   "cell_type": "code",
   "execution_count": 197,
   "id": "85915e8a",
   "metadata": {},
   "outputs": [
    {
     "data": {
      "text/html": [
       "<div>\n",
       "<style scoped>\n",
       "    .dataframe tbody tr th:only-of-type {\n",
       "        vertical-align: middle;\n",
       "    }\n",
       "\n",
       "    .dataframe tbody tr th {\n",
       "        vertical-align: top;\n",
       "    }\n",
       "\n",
       "    .dataframe thead th {\n",
       "        text-align: right;\n",
       "    }\n",
       "</style>\n",
       "<table border=\"1\" class=\"dataframe\">\n",
       "  <thead>\n",
       "    <tr style=\"text-align: right;\">\n",
       "      <th></th>\n",
       "      <th>id</th>\n",
       "      <th>gender</th>\n",
       "      <th>age</th>\n",
       "      <th>hypertension</th>\n",
       "      <th>heart_disease</th>\n",
       "      <th>ever_married</th>\n",
       "      <th>work_type</th>\n",
       "      <th>Residence_type</th>\n",
       "      <th>avg_glucose_level</th>\n",
       "      <th>bmi</th>\n",
       "      <th>smoking_status</th>\n",
       "      <th>stroke</th>\n",
       "    </tr>\n",
       "  </thead>\n",
       "  <tbody>\n",
       "    <tr>\n",
       "      <th>4979</th>\n",
       "      <td>23757</td>\n",
       "      <td>Female</td>\n",
       "      <td>60.0</td>\n",
       "      <td>0</td>\n",
       "      <td>0</td>\n",
       "      <td>No</td>\n",
       "      <td>Private</td>\n",
       "      <td>Urban</td>\n",
       "      <td>105.48</td>\n",
       "      <td>28.4</td>\n",
       "      <td>Unknown</td>\n",
       "      <td>0</td>\n",
       "    </tr>\n",
       "    <tr>\n",
       "      <th>3599</th>\n",
       "      <td>44886</td>\n",
       "      <td>Male</td>\n",
       "      <td>69.0</td>\n",
       "      <td>1</td>\n",
       "      <td>0</td>\n",
       "      <td>Yes</td>\n",
       "      <td>Self-employed</td>\n",
       "      <td>Rural</td>\n",
       "      <td>236.79</td>\n",
       "      <td>35.7</td>\n",
       "      <td>formerly smoked</td>\n",
       "      <td>0</td>\n",
       "    </tr>\n",
       "    <tr>\n",
       "      <th>3792</th>\n",
       "      <td>44259</td>\n",
       "      <td>Female</td>\n",
       "      <td>74.0</td>\n",
       "      <td>0</td>\n",
       "      <td>0</td>\n",
       "      <td>Yes</td>\n",
       "      <td>Private</td>\n",
       "      <td>Urban</td>\n",
       "      <td>130.37</td>\n",
       "      <td>26.3</td>\n",
       "      <td>Unknown</td>\n",
       "      <td>0</td>\n",
       "    </tr>\n",
       "    <tr>\n",
       "      <th>193</th>\n",
       "      <td>69112</td>\n",
       "      <td>Male</td>\n",
       "      <td>68.0</td>\n",
       "      <td>1</td>\n",
       "      <td>1</td>\n",
       "      <td>Yes</td>\n",
       "      <td>Private</td>\n",
       "      <td>Rural</td>\n",
       "      <td>271.74</td>\n",
       "      <td>31.1</td>\n",
       "      <td>smokes</td>\n",
       "      <td>1</td>\n",
       "    </tr>\n",
       "    <tr>\n",
       "      <th>2646</th>\n",
       "      <td>63337</td>\n",
       "      <td>Female</td>\n",
       "      <td>42.0</td>\n",
       "      <td>0</td>\n",
       "      <td>0</td>\n",
       "      <td>Yes</td>\n",
       "      <td>Private</td>\n",
       "      <td>Rural</td>\n",
       "      <td>69.99</td>\n",
       "      <td>46.0</td>\n",
       "      <td>smokes</td>\n",
       "      <td>0</td>\n",
       "    </tr>\n",
       "    <tr>\n",
       "      <th>3744</th>\n",
       "      <td>43734</td>\n",
       "      <td>Male</td>\n",
       "      <td>15.0</td>\n",
       "      <td>0</td>\n",
       "      <td>0</td>\n",
       "      <td>No</td>\n",
       "      <td>Private</td>\n",
       "      <td>Rural</td>\n",
       "      <td>122.25</td>\n",
       "      <td>21.0</td>\n",
       "      <td>never smoked</td>\n",
       "      <td>0</td>\n",
       "    </tr>\n",
       "    <tr>\n",
       "      <th>4715</th>\n",
       "      <td>38642</td>\n",
       "      <td>Male</td>\n",
       "      <td>55.0</td>\n",
       "      <td>0</td>\n",
       "      <td>0</td>\n",
       "      <td>Yes</td>\n",
       "      <td>Private</td>\n",
       "      <td>Urban</td>\n",
       "      <td>63.56</td>\n",
       "      <td>29.9</td>\n",
       "      <td>Unknown</td>\n",
       "      <td>0</td>\n",
       "    </tr>\n",
       "    <tr>\n",
       "      <th>3508</th>\n",
       "      <td>65154</td>\n",
       "      <td>Female</td>\n",
       "      <td>30.0</td>\n",
       "      <td>0</td>\n",
       "      <td>0</td>\n",
       "      <td>Yes</td>\n",
       "      <td>Private</td>\n",
       "      <td>Urban</td>\n",
       "      <td>112.19</td>\n",
       "      <td>53.4</td>\n",
       "      <td>never smoked</td>\n",
       "      <td>0</td>\n",
       "    </tr>\n",
       "    <tr>\n",
       "      <th>2995</th>\n",
       "      <td>4750</td>\n",
       "      <td>Male</td>\n",
       "      <td>78.0</td>\n",
       "      <td>0</td>\n",
       "      <td>0</td>\n",
       "      <td>Yes</td>\n",
       "      <td>Private</td>\n",
       "      <td>Urban</td>\n",
       "      <td>85.03</td>\n",
       "      <td>26.1</td>\n",
       "      <td>formerly smoked</td>\n",
       "      <td>0</td>\n",
       "    </tr>\n",
       "    <tr>\n",
       "      <th>3654</th>\n",
       "      <td>24068</td>\n",
       "      <td>Female</td>\n",
       "      <td>32.0</td>\n",
       "      <td>0</td>\n",
       "      <td>0</td>\n",
       "      <td>Yes</td>\n",
       "      <td>Private</td>\n",
       "      <td>Urban</td>\n",
       "      <td>85.91</td>\n",
       "      <td>22.1</td>\n",
       "      <td>Unknown</td>\n",
       "      <td>0</td>\n",
       "    </tr>\n",
       "  </tbody>\n",
       "</table>\n",
       "</div>"
      ],
      "text/plain": [
       "         id  gender   age  hypertension  heart_disease ever_married  \\\n",
       "4979  23757  Female  60.0             0              0           No   \n",
       "3599  44886    Male  69.0             1              0          Yes   \n",
       "3792  44259  Female  74.0             0              0          Yes   \n",
       "193   69112    Male  68.0             1              1          Yes   \n",
       "2646  63337  Female  42.0             0              0          Yes   \n",
       "3744  43734    Male  15.0             0              0           No   \n",
       "4715  38642    Male  55.0             0              0          Yes   \n",
       "3508  65154  Female  30.0             0              0          Yes   \n",
       "2995   4750    Male  78.0             0              0          Yes   \n",
       "3654  24068  Female  32.0             0              0          Yes   \n",
       "\n",
       "          work_type Residence_type  avg_glucose_level   bmi   smoking_status  \\\n",
       "4979        Private          Urban             105.48  28.4          Unknown   \n",
       "3599  Self-employed          Rural             236.79  35.7  formerly smoked   \n",
       "3792        Private          Urban             130.37  26.3          Unknown   \n",
       "193         Private          Rural             271.74  31.1           smokes   \n",
       "2646        Private          Rural              69.99  46.0           smokes   \n",
       "3744        Private          Rural             122.25  21.0     never smoked   \n",
       "4715        Private          Urban              63.56  29.9          Unknown   \n",
       "3508        Private          Urban             112.19  53.4     never smoked   \n",
       "2995        Private          Urban              85.03  26.1  formerly smoked   \n",
       "3654        Private          Urban              85.91  22.1          Unknown   \n",
       "\n",
       "      stroke  \n",
       "4979       0  \n",
       "3599       0  \n",
       "3792       0  \n",
       "193        1  \n",
       "2646       0  \n",
       "3744       0  \n",
       "4715       0  \n",
       "3508       0  \n",
       "2995       0  \n",
       "3654       0  "
      ]
     },
     "execution_count": 197,
     "metadata": {},
     "output_type": "execute_result"
    }
   ],
   "source": [
    "## Data extraction\n",
    "\n",
    "import pandas as pd \n",
    "import seaborn as sns \n",
    "import numpy as np\n",
    "import matplotlib.pyplot as plt\n",
    "import numpy as np\n",
    "%matplotlib inline\n",
    "\n",
    "stroke= pd.read_csv('/home/pinki/Desktop/healthcare-dataset-stroke-data.xls')\n",
    "stroke.sample(10)\n",
    "\n"
   ]
  },
  {
   "cell_type": "markdown",
   "id": "10e8d09e",
   "metadata": {},
   "source": [
    "In this dataset, the categorical variables are id, gender, hypertension (yes/no), heart_disease (yes/no), marital status, work type (government job, never worked, private, self-employer), residence_type (urban, rural), smoking_ status (formerly smoked, never smoked, smokes), and stroke history. As for quantitative variables we have one’s age, BMI and average glucose level.\n",
    "\n",
    "When we see 12 attributes we can conclude some information about each coloumn\n",
    "\n",
    "(1)id: unique identifier for each person\n",
    "(2)gender: male, female, or other\n",
    "(3)age: 0-82 years old\n",
    "(4)hypertension: 0 if the person doesn’t have hypertension, 1 if the person has hypertension\n",
    "(5)heart_disease: 0 if the person doesn’t have any heart diesease, 1 if the person has a heart disease\n",
    "(6)ever_married: Yes or No\n",
    "(7)work_type: children, govt_job, never_worked, private, or self-employed\n",
    "(8)residence_type: urban or rural\n",
    "(9)avg_glucose_level: average glucose level in blood; range: 55-272\n",
    "(10)bmi: body mass index; range: 10-98\n",
    "(11)smoking_status: formerly smoked, never smoked, smokes, unknown\n",
    "(12)stroke: 0 if person never had a stroke, 1 if the person suffered a stroke before"
   ]
  },
  {
   "cell_type": "markdown",
   "id": "d4386d10",
   "metadata": {},
   "source": [
    "Now we will check if any coloumn has null values.For this perpose we will use info on the dataframe."
   ]
  },
  {
   "cell_type": "code",
   "execution_count": 199,
   "id": "b9aca8dc",
   "metadata": {},
   "outputs": [
    {
     "name": "stdout",
     "output_type": "stream",
     "text": [
      "<class 'pandas.core.frame.DataFrame'>\n",
      "RangeIndex: 5110 entries, 0 to 5109\n",
      "Data columns (total 12 columns):\n",
      " #   Column             Non-Null Count  Dtype  \n",
      "---  ------             --------------  -----  \n",
      " 0   id                 5110 non-null   int64  \n",
      " 1   gender             5110 non-null   object \n",
      " 2   age                5110 non-null   float64\n",
      " 3   hypertension       5110 non-null   int64  \n",
      " 4   heart_disease      5110 non-null   int64  \n",
      " 5   ever_married       5110 non-null   object \n",
      " 6   work_type          5110 non-null   object \n",
      " 7   Residence_type     5110 non-null   object \n",
      " 8   avg_glucose_level  5110 non-null   float64\n",
      " 9   bmi                4909 non-null   float64\n",
      " 10  smoking_status     5110 non-null   object \n",
      " 11  stroke             5110 non-null   int64  \n",
      "dtypes: float64(3), int64(4), object(5)\n",
      "memory usage: 479.2+ KB\n"
     ]
    }
   ],
   "source": [
    "stroke.info()\n"
   ]
  },
  {
   "cell_type": "markdown",
   "id": "ccc6b0b8",
   "metadata": {},
   "source": [
    "One thing we notice, there is a coloumn called \"bmi\" which do not seem to contain data in all rows.Because the bmi column has 4909 entries which means some entries are missing and bmi could be a vital variable with respect to our analysis.Here we will findout how many values are missing in 'bmi' and we will replace these missing values with mean of age and bmi to analyse how these values affect the dataframe.\n",
    "Let's count how many values are missing in bmi coloumn."
   ]
  },
  {
   "cell_type": "markdown",
   "id": "11a2050a",
   "metadata": {},
   "source": [
    "Lets count hom many values are missing in bmi column."
   ]
  },
  {
   "cell_type": "code",
   "execution_count": 200,
   "id": "780a4733",
   "metadata": {},
   "outputs": [
    {
     "name": "stdout",
     "output_type": "stream",
     "text": [
      "                   missing_count\n",
      "id                             0\n",
      "gender                         0\n",
      "age                            0\n",
      "hypertension                   0\n",
      "heart_disease                  0\n",
      "ever_married                   0\n",
      "work_type                      0\n",
      "Residence_type                 0\n",
      "avg_glucose_level              0\n",
      "bmi                          201\n",
      "smoking_status                 0\n",
      "stroke                         0\n"
     ]
    },
    {
     "name": "stderr",
     "output_type": "stream",
     "text": [
      "/tmp/ipykernel_5437/4155609355.py:2: FutureWarning: In a future version of pandas all arguments of concat except for the argument 'objs' will be keyword-only.\n",
      "  result = pd.concat([s],1)           #concating s dataframe with result dataframe\n"
     ]
    }
   ],
   "source": [
    "s = stroke.isnull().sum()     # sum of all null values\n",
    "result = pd.concat([s],1)           #concating s dataframe with result dataframe\n",
    "result.columns = [\"missing_count\"]   #  adding one more coloumn called missing_count in result data frame.\n",
    "print (result)"
   ]
  },
  {
   "cell_type": "markdown",
   "id": "868178ce",
   "metadata": {},
   "source": [
    "Here we can see that there is total 201 values are missing in 'bmi' coloumn.201 missing values are less than 5%(201/5110=3.9) of the total entries in the column, so it might be worth replacing the missing values with a mean value .We can assume that the mean values will not significantly affect the results after replace with missing values.Lets create two new coloumn namely bmi_mean and age_mean. Both column have bmi values where missing values are replaced by bmi mean and age mean respectively."
   ]
  },
  {
   "cell_type": "code",
   "execution_count": 201,
   "id": "4cdde045",
   "metadata": {},
   "outputs": [
    {
     "name": "stdout",
     "output_type": "stream",
     "text": [
      "         id  gender   age  hypertension  heart_disease ever_married  \\\n",
      "0      9046    Male  67.0             0              1          Yes   \n",
      "1     51676  Female  61.0             0              0          Yes   \n",
      "2     31112    Male  80.0             0              1          Yes   \n",
      "3     60182  Female  49.0             0              0          Yes   \n",
      "4      1665  Female  79.0             1              0          Yes   \n",
      "...     ...     ...   ...           ...            ...          ...   \n",
      "5105  18234  Female  80.0             1              0          Yes   \n",
      "5106  44873  Female  81.0             0              0          Yes   \n",
      "5107  19723  Female  35.0             0              0          Yes   \n",
      "5108  37544    Male  51.0             0              0          Yes   \n",
      "5109  44679  Female  44.0             0              0          Yes   \n",
      "\n",
      "          work_type Residence_type  avg_glucose_level   bmi   smoking_status  \\\n",
      "0           Private          Urban             228.69  36.6  formerly smoked   \n",
      "1     Self-employed          Rural             202.21   NaN     never smoked   \n",
      "2           Private          Rural             105.92  32.5     never smoked   \n",
      "3           Private          Urban             171.23  34.4           smokes   \n",
      "4     Self-employed          Rural             174.12  24.0     never smoked   \n",
      "...             ...            ...                ...   ...              ...   \n",
      "5105        Private          Urban              83.75   NaN     never smoked   \n",
      "5106  Self-employed          Urban             125.20  40.0     never smoked   \n",
      "5107  Self-employed          Rural              82.99  30.6     never smoked   \n",
      "5108        Private          Rural             166.29  25.6  formerly smoked   \n",
      "5109       Govt_job          Urban              85.28  26.2          Unknown   \n",
      "\n",
      "      stroke   bmi_mean   age_mean  \n",
      "0          1  36.600000  36.600000  \n",
      "1          1  28.893237  43.226614  \n",
      "2          1  32.500000  32.500000  \n",
      "3          1  34.400000  34.400000  \n",
      "4          1  24.000000  24.000000  \n",
      "...      ...        ...        ...  \n",
      "5105       0  28.893237  43.226614  \n",
      "5106       0  40.000000  40.000000  \n",
      "5107       0  30.600000  30.600000  \n",
      "5108       0  25.600000  25.600000  \n",
      "5109       0  26.200000  26.200000  \n",
      "\n",
      "[5110 rows x 14 columns]\n"
     ]
    }
   ],
   "source": [
    "stroke['bmi_mean'] = stroke['bmi'].fillna(stroke['bmi'].mean())\n",
    "#print(stroke)\n",
    "stroke['age_mean'] = stroke['bmi'].fillna(stroke['age'].mean())\n",
    "print(stroke)"
   ]
  },
  {
   "cell_type": "markdown",
   "id": "ddd68b68",
   "metadata": {},
   "source": [
    "We have created two coloumns above, bmi_mean and age_mean. Now we will draw a boxplot to check how mean values are affecting the bmi column. Boxplot will tell us which null replacement will give more outliers. The one with less outliers will be choosen and if both boxplot has same number of outliers we can choose any one."
   ]
  },
  {
   "cell_type": "code",
   "execution_count": 202,
   "id": "bb8f4bfa",
   "metadata": {},
   "outputs": [
    {
     "data": {
      "image/png": "[encoded data removed]",
      "text/plain": [
       "<Figure size 432x288 with 1 Axes>"
      ]
     },
     "metadata": {
      "needs_background": "light"
     },
     "output_type": "display_data"
    },
    {
     "data": {
      "image/png": "[encoded data removed]",
      "text/plain": [
       "<Figure size 432x288 with 1 Axes>"
      ]
     },
     "metadata": {
      "needs_background": "light"
     },
     "output_type": "display_data"
    }
   ],
   "source": [
    "sns.boxplot(data=[stroke['bmi_mean']])\n",
    "plt.show()\n",
    "sns.boxplot(data=[stroke['age_mean']])\n",
    "plt.show()\n"
   ]
  },
  {
   "cell_type": "markdown",
   "id": "d7469b13",
   "metadata": {},
   "source": [
    "From above  boxplot we can see that both coloumn have same outliers and it will not effect out result because they are less in numbers. "
   ]
  },
  {
   "cell_type": "code",
   "execution_count": null,
   "id": "e0e47aa3",
   "metadata": {},
   "outputs": [],
   "source": [
    "Now we can replace bmi missing values by mean of bmi using np.nan"
   ]
  },
  {
   "cell_type": "code",
   "execution_count": 203,
   "id": "29220f87",
   "metadata": {},
   "outputs": [
    {
     "name": "stdout",
     "output_type": "stream",
     "text": [
      "         id  gender   age  hypertension  heart_disease ever_married  \\\n",
      "0      9046    Male  67.0             0              1          Yes   \n",
      "1     51676  Female  61.0             0              0          Yes   \n",
      "2     31112    Male  80.0             0              1          Yes   \n",
      "3     60182  Female  49.0             0              0          Yes   \n",
      "4      1665  Female  79.0             1              0          Yes   \n",
      "...     ...     ...   ...           ...            ...          ...   \n",
      "5105  18234  Female  80.0             1              0          Yes   \n",
      "5106  44873  Female  81.0             0              0          Yes   \n",
      "5107  19723  Female  35.0             0              0          Yes   \n",
      "5108  37544    Male  51.0             0              0          Yes   \n",
      "5109  44679  Female  44.0             0              0          Yes   \n",
      "\n",
      "          work_type Residence_type  avg_glucose_level        bmi  \\\n",
      "0           Private          Urban             228.69  36.600000   \n",
      "1     Self-employed          Rural             202.21  28.893237   \n",
      "2           Private          Rural             105.92  32.500000   \n",
      "3           Private          Urban             171.23  34.400000   \n",
      "4     Self-employed          Rural             174.12  24.000000   \n",
      "...             ...            ...                ...        ...   \n",
      "5105        Private          Urban              83.75  28.893237   \n",
      "5106  Self-employed          Urban             125.20  40.000000   \n",
      "5107  Self-employed          Rural              82.99  30.600000   \n",
      "5108        Private          Rural             166.29  25.600000   \n",
      "5109       Govt_job          Urban              85.28  26.200000   \n",
      "\n",
      "       smoking_status  stroke   bmi_mean   age_mean  \n",
      "0     formerly smoked       1  36.600000  36.600000  \n",
      "1        never smoked       1  28.893237  43.226614  \n",
      "2        never smoked       1  32.500000  32.500000  \n",
      "3              smokes       1  34.400000  34.400000  \n",
      "4        never smoked       1  24.000000  24.000000  \n",
      "...               ...     ...        ...        ...  \n",
      "5105     never smoked       0  28.893237  43.226614  \n",
      "5106     never smoked       0  40.000000  40.000000  \n",
      "5107     never smoked       0  30.600000  30.600000  \n",
      "5108  formerly smoked       0  25.600000  25.600000  \n",
      "5109          Unknown       0  26.200000  26.200000  \n",
      "\n",
      "[5110 rows x 14 columns]\n"
     ]
    }
   ],
   "source": [
    "stroke['bmi'].replace(np.nan, value=stroke['bmi'].mean() ,inplace=True) \n",
    "print(stroke)                                                            "
   ]
  },
  {
   "cell_type": "markdown",
   "id": "e38b77d5",
   "metadata": {},
   "source": [
    "Now we will check if bmi column missing values have been replaced or not"
   ]
  },
  {
   "cell_type": "code",
   "execution_count": 235,
   "id": "e8ebaab0",
   "metadata": {},
   "outputs": [
    {
     "name": "stdout",
     "output_type": "stream",
     "text": [
      "                          missing_count\n",
      "id                                    0\n",
      "gender                                0\n",
      "age                                   0\n",
      "hypertension                          0\n",
      "heart_disease                         0\n",
      "ever_married                          0\n",
      "work_type                             0\n",
      "Residence_type                        0\n",
      "avg_glucose_level                     0\n",
      "bmi                                   0\n",
      "smoking_status                        0\n",
      "stroke                                0\n",
      "bmi_mean                              0\n",
      "age_mean                              0\n",
      "age_binned                            0\n",
      "avg_glucose_level_binned              0\n",
      "bmi_binned                            0\n"
     ]
    }
   ],
   "source": [
    "s = stroke.isnull().sum()     #create a new dataframe which is sum of all null values\n",
    "result = pd.concat([s],axis=1)       #concate 's' dataframe with result dataframe \n",
    "result.columns = [\"missing_count\"]\n",
    "print (result)"
   ]
  },
  {
   "cell_type": "markdown",
   "id": "b7cefbc9",
   "metadata": {},
   "source": [
    "Questions\n",
    "\n",
    "(1)Could it be a case that older patients have more chances of stroke?\n",
    "\n",
    "(2) Can we say male patients get more stroke than female?\n",
    "\n",
    "(3)A patient who already has hypertension problem has more chance of stroke.Can hypertension be one of the factor in stroke?\n",
    "\n",
    "(4)We always say that smoking is injurious to health .Is it true in stroke too? Could we say that the person who smokes has more chances of stroke?\n",
    "\n",
    "(5)Too much work load ends up in stress,can stroke also be caused by type of work ? \n",
    "\n",
    "(6)Do people living in the urban have more stroke?"
   ]
  },
  {
   "cell_type": "markdown",
   "id": "63d4fc1d",
   "metadata": {},
   "source": [
    "## Programs\n"
   ]
  },
  {
   "cell_type": "markdown",
   "id": "02931cb1",
   "metadata": {},
   "source": [
    "(1)Could it be a case that older patients have more chances of stroke?\n",
    "Let' analyse the age coloumn. First we will findout which age group has more chances of stroke using boxplot function.\n",
    "Boxplot is a graphical repsentation of numurical data through quartiles.Here x and y are axis and in data we\"ll pass the data frame."
   ]
  },
  {
   "cell_type": "markdown",
   "id": "284eb7e1",
   "metadata": {},
   "source": [
    "This dataset is about the pateients who are visiting the hospitals for the treatment of stroke or routine check up.Let's see which age group people are visiting the more  "
   ]
  },
  {
   "cell_type": "code",
   "execution_count": 242,
   "id": "e17e65c4",
   "metadata": {},
   "outputs": [
    {
     "data": {
      "text/html": [
       "<div>\n",
       "<style scoped>\n",
       "    .dataframe tbody tr th:only-of-type {\n",
       "        vertical-align: middle;\n",
       "    }\n",
       "\n",
       "    .dataframe tbody tr th {\n",
       "        vertical-align: top;\n",
       "    }\n",
       "\n",
       "    .dataframe thead tr th {\n",
       "        text-align: left;\n",
       "    }\n",
       "\n",
       "    .dataframe thead tr:last-of-type th {\n",
       "        text-align: right;\n",
       "    }\n",
       "</style>\n",
       "<table border=\"1\" class=\"dataframe\">\n",
       "  <thead>\n",
       "    <tr>\n",
       "      <th></th>\n",
       "      <th colspan=\"8\" halign=\"left\">age</th>\n",
       "    </tr>\n",
       "    <tr>\n",
       "      <th></th>\n",
       "      <th colspan=\"8\" halign=\"left\">describe</th>\n",
       "    </tr>\n",
       "    <tr>\n",
       "      <th></th>\n",
       "      <th>count</th>\n",
       "      <th>mean</th>\n",
       "      <th>std</th>\n",
       "      <th>min</th>\n",
       "      <th>25%</th>\n",
       "      <th>50%</th>\n",
       "      <th>75%</th>\n",
       "      <th>max</th>\n",
       "    </tr>\n",
       "    <tr>\n",
       "      <th>gender</th>\n",
       "      <th></th>\n",
       "      <th></th>\n",
       "      <th></th>\n",
       "      <th></th>\n",
       "      <th></th>\n",
       "      <th></th>\n",
       "      <th></th>\n",
       "      <th></th>\n",
       "    </tr>\n",
       "  </thead>\n",
       "  <tbody>\n",
       "    <tr>\n",
       "      <th>Female</th>\n",
       "      <td>2994.0</td>\n",
       "      <td>43.76</td>\n",
       "      <td>21.97</td>\n",
       "      <td>0.08</td>\n",
       "      <td>27.0</td>\n",
       "      <td>44.0</td>\n",
       "      <td>61.0</td>\n",
       "      <td>82.0</td>\n",
       "    </tr>\n",
       "    <tr>\n",
       "      <th>Male</th>\n",
       "      <td>2115.0</td>\n",
       "      <td>42.48</td>\n",
       "      <td>23.48</td>\n",
       "      <td>0.08</td>\n",
       "      <td>22.0</td>\n",
       "      <td>46.0</td>\n",
       "      <td>61.0</td>\n",
       "      <td>82.0</td>\n",
       "    </tr>\n",
       "    <tr>\n",
       "      <th>Other</th>\n",
       "      <td>1.0</td>\n",
       "      <td>26.00</td>\n",
       "      <td>NaN</td>\n",
       "      <td>26.00</td>\n",
       "      <td>26.0</td>\n",
       "      <td>26.0</td>\n",
       "      <td>26.0</td>\n",
       "      <td>26.0</td>\n",
       "    </tr>\n",
       "  </tbody>\n",
       "</table>\n",
       "</div>"
      ],
      "text/plain": [
       "            age                                             \n",
       "       describe                                             \n",
       "          count   mean    std    min   25%   50%   75%   max\n",
       "gender                                                      \n",
       "Female   2994.0  43.76  21.97   0.08  27.0  44.0  61.0  82.0\n",
       "Male     2115.0  42.48  23.48   0.08  22.0  46.0  61.0  82.0\n",
       "Other       1.0  26.00    NaN  26.00  26.0  26.0  26.0  26.0"
      ]
     },
     "execution_count": 242,
     "metadata": {},
     "output_type": "execute_result"
    }
   ],
   "source": [
    "agg_age_describe = {'age': ['describe']}\n",
    "stroke.groupby(['gender']).agg(agg_age_describe).round(2)"
   ]
  },
  {
   "cell_type": "markdown",
   "id": "f5af3356",
   "metadata": {},
   "source": [
    "Above table shows that 75% male and female have 61 age and max age in this dataset is 82 for male and female.From this table we can say that after age of 60 people are visiting the hospital freqently.\n",
    "If these people are visiting the hopital frequently then they must have some relation with stroke.Lets explore this with the help of boxplot."
   ]
  },
  {
   "cell_type": "code",
   "execution_count": 240,
   "id": "33280a2f",
   "metadata": {},
   "outputs": [
    {
     "data": {
      "text/plain": [
       "<AxesSubplot:xlabel='stroke', ylabel='age'>"
      ]
     },
     "execution_count": 240,
     "metadata": {},
     "output_type": "execute_result"
    },
    {
     "data": {
      "image/png": "[encoded data removed]",
      "text/plain": [
       "<Figure size 432x288 with 1 Axes>"
      ]
     },
     "metadata": {
      "needs_background": "light"
     },
     "output_type": "display_data"
    }
   ],
   "source": [
    "sns.boxplot(x='stroke',y='age',data=stroke)"
   ]
  },
  {
   "cell_type": "markdown",
   "id": "f7769d92",
   "metadata": {},
   "source": [
    "Here the horizontal line represents the median age and  the mid-point of the data and it  also divides the box into two parts \n",
    "If we notice this boxplot carefully we can conclude that the patient who had stroke are in the age group of 60 to 80 .\n",
    "\n",
    "At what age the stroke is increaing. This could be done by using FacetGdri.FacetGrid class helps in visualizing distribution of one variable as well as the relationship between multiple variables.\n"
   ]
  },
  {
   "cell_type": "code",
   "execution_count": 244,
   "id": "9b91310b",
   "metadata": {},
   "outputs": [
    {
     "name": "stderr",
     "output_type": "stream",
     "text": [
      "/home/pinki/anaconda3/lib/python3.9/site-packages/seaborn/distributions.py:2619: FutureWarning: `distplot` is a deprecated function and will be removed in a future version. Please adapt your code to use either `displot` (a figure-level function with similar flexibility) or `histplot` (an axes-level function for histograms).\n",
      "  warnings.warn(msg, FutureWarning)\n",
      "/home/pinki/anaconda3/lib/python3.9/site-packages/seaborn/distributions.py:2619: FutureWarning: `distplot` is a deprecated function and will be removed in a future version. Please adapt your code to use either `displot` (a figure-level function with similar flexibility) or `histplot` (an axes-level function for histograms).\n",
      "  warnings.warn(msg, FutureWarning)\n"
     ]
    },
    {
     "data": {
      "text/plain": [
       "<seaborn.axisgrid.FacetGrid at 0x7fc554b5cdf0>"
      ]
     },
     "execution_count": 244,
     "metadata": {},
     "output_type": "execute_result"
    },
    {
     "data": {
      "image/png": "[encoded data removed]",
      "text/plain": [
       "<Figure size 402.375x360 with 1 Axes>"
      ]
     },
     "metadata": {
      "needs_background": "light"
     },
     "output_type": "display_data"
    }
   ],
   "source": [
    "sns.FacetGrid(stroke,hue=\"stroke\",height = 5).map(sns.distplot,\"age\").add_legend() #map() function is used to map values of Series according to \"age\" input .\n"
   ]
  },
  {
   "cell_type": "markdown",
   "id": "84718abd",
   "metadata": {},
   "source": [
    "Above plot represent that with advancing age the chances of stroke increases.But there is limited overlapping between the person who are  getting the stroke and who are not getting it.So stroke is related to age but the petient who is above 60."
   ]
  },
  {
   "cell_type": "markdown",
   "id": "180a6558",
   "metadata": {},
   "source": [
    "(2)Can we say that male patients get more stroke than female?First we count how many persong got stroke.\n",
    "here we will use value_counts()"
   ]
  },
  {
   "cell_type": "code",
   "execution_count": 207,
   "id": "a4933453",
   "metadata": {},
   "outputs": [
    {
     "data": {
      "text/plain": [
       "0    4861\n",
       "1     249\n",
       "Name: stroke, dtype: int64"
      ]
     },
     "execution_count": 207,
     "metadata": {},
     "output_type": "execute_result"
    }
   ],
   "source": [
    "stroke[\"stroke\"].value_counts() #vale_counts() method counts the each unique value"
   ]
  },
  {
   "cell_type": "markdown",
   "id": "7dfbbe35",
   "metadata": {},
   "source": [
    "Above result clearly shows that 249 persons have got stroke.Are these person male or female or could be both? \n",
    "Here we will group by() and count() methods.\n",
    "groupby method allows us to group our required data data and execute functions on these groups. Here we are the data of two coloumn and appluying the result on age coloumn."
   ]
  },
  {
   "cell_type": "code",
   "execution_count": 208,
   "id": "b22e0c47",
   "metadata": {},
   "outputs": [
    {
     "name": "stdout",
     "output_type": "stream",
     "text": [
      "gender  stroke\n",
      "Female  0         2853\n",
      "        1          141\n",
      "Male    0         2007\n",
      "        1          108\n",
      "Other   0            1\n",
      "Name: age, dtype: int64\n"
     ]
    }
   ],
   "source": [
    "gender_stroke = stroke.groupby(['gender', 'stroke'])['age'].count()\n",
    "print(gender_stroke)\n",
    "    "
   ]
  },
  {
   "cell_type": "markdown",
   "id": "a4b8c036",
   "metadata": {},
   "source": [
    "141 Female patients got stroke out of 2994 female patients which is 4.7% and in case of male 108 male patients got stroke(approx 5%). So we can say that gender is not factor which could affect the stroke problem."
   ]
  },
  {
   "cell_type": "markdown",
   "id": "47a70e87",
   "metadata": {},
   "source": [
    "A patient who already has hypertension problem has more chance of stroke.Can hypertension be one of the factor in stroke? "
   ]
  },
  {
   "cell_type": "code",
   "execution_count": 209,
   "id": "69e694fd",
   "metadata": {},
   "outputs": [
    {
     "data": {
      "text/plain": [
       "gender  stroke  hypertension\n",
       "Female  0       0               2616\n",
       "                1                237\n",
       "        1       0                102\n",
       "                1                 39\n",
       "Male    0       0               1812\n",
       "                1                195\n",
       "        1       0                 81\n",
       "                1                 27\n",
       "Other   0       0                  1\n",
       "Name: hypertension, dtype: int64"
      ]
     },
     "execution_count": 209,
     "metadata": {},
     "output_type": "execute_result"
    }
   ],
   "source": [
    "stroke.groupby(['gender','stroke'])[\"hypertension\"].value_counts()"
   ]
  },
  {
   "cell_type": "code",
   "execution_count": 210,
   "id": "15cb90df",
   "metadata": {},
   "outputs": [
    {
     "data": {
      "text/plain": [
       "<AxesSubplot:xlabel='stroke', ylabel='hypertension'>"
      ]
     },
     "execution_count": 210,
     "metadata": {},
     "output_type": "execute_result"
    },
    {
     "data": {
      "image/png": "[encoded data removed]",
      "text/plain": [
       "<Figure size 432x288 with 1 Axes>"
      ]
     },
     "metadata": {
      "needs_background": "light"
     },
     "output_type": "display_data"
    }
   ],
   "source": [
    "sns.boxplot(x='stroke',y='hypertension',data=stroke)"
   ]
  },
  {
   "cell_type": "markdown",
   "id": "c6b87dba",
   "metadata": {},
   "source": [
    "The above plot  and list clearly represent that the the patient who alreay had hypertension problem have\n",
    "higher risk of stroke.So hypertension significantly affect the stroke.\n"
   ]
  },
  {
   "cell_type": "markdown",
   "id": "3d3eade2",
   "metadata": {},
   "source": [
    "Will those who  have not hypertension  problem be affected by work type,Age,heart disease and marriage status? Is there any relationship betwen these factors?\n"
   ]
  },
  {
   "cell_type": "code",
   "execution_count": 212,
   "id": "69d1ec90",
   "metadata": {},
   "outputs": [
    {
     "name": "stdout",
     "output_type": "stream",
     "text": [
      "     counts Percent\n",
      "Yes    3353   65.6%\n",
      "No     1757   34.4%\n"
     ]
    }
   ],
   "source": [
    "counts = stroke[\"ever_married\"].value_counts()\n",
    "percent= stroke[\"ever_married\"].value_counts(normalize=True).mul(100).round(1).astype(str) + '%'\n",
    "stroke_conditions=pd.DataFrame({'counts': counts, 'Percent': percent})\n",
    "print(stroke_conditions)"
   ]
  },
  {
   "cell_type": "code",
   "execution_count": 213,
   "id": "d0c7af6e",
   "metadata": {},
   "outputs": [
    {
     "data": {
      "text/plain": [
       "<Figure size 432x288 with 0 Axes>"
      ]
     },
     "execution_count": 213,
     "metadata": {},
     "output_type": "execute_result"
    },
    {
     "data": {
      "image/png": "[encoded data removed]",
      "text/plain": [
       "<Figure size 432x288 with 1 Axes>"
      ]
     },
     "metadata": {
      "needs_background": "light"
     },
     "output_type": "display_data"
    },
    {
     "data": {
      "text/plain": [
       "<Figure size 432x288 with 0 Axes>"
      ]
     },
     "metadata": {},
     "output_type": "display_data"
    }
   ],
   "source": [
    "sns.barplot(data=stroke[stroke[\"hypertension\"]==0], x=\"heart_disease\", y=\"ever_married\",hue=\"work_type\")\n",
    "plt.figure()"
   ]
  },
  {
   "cell_type": "markdown",
   "id": "2c668d51",
   "metadata": {},
   "source": [
    "Here we pass the data of hypertension coloumn  who have not hypertension problem.We got an interesting result that self employed  and private sector workers have high chance of getting stroke than private sector.Self emplpyed people take more stress of work due to which they  have high chance of stroke. "
   ]
  },
  {
   "cell_type": "markdown",
   "id": "1df88172",
   "metadata": {},
   "source": [
    "Does High BMI(body mass index) cause stroke?Is there any relation between age and bmi?"
   ]
  },
  {
   "cell_type": "code",
   "execution_count": 214,
   "id": "7dc5e63f",
   "metadata": {},
   "outputs": [
    {
     "data": {
      "image/png": "[encoded data removed]",
      "text/plain": [
       "<Figure size 432x288 with 1 Axes>"
      ]
     },
     "metadata": {
      "needs_background": "light"
     },
     "output_type": "display_data"
    }
   ],
   "source": [
    "ax= sns.scatterplot(x=\"bmi\", y=\"age\", data=stroke[stroke['stroke'] == 0]\n",
    "    ,hue=\"stroke\",palette=['blue'], legend='full')\n",
    "sns.scatterplot(x=\"bmi\", y=\"age\", data=stroke[stroke['stroke']==1]\n",
    "    , hue=\"stroke\", palette=['red']\n",
    "    , legend='full')\n",
    "plt.show()\n"
   ]
  },
  {
   "cell_type": "markdown",
   "id": "f60b058e",
   "metadata": {},
   "source": [
    "From the above plot we can clearly see that when people attain an age of 40 or greater \n",
    "the chances of getting a stroke increases and after 60+ it tends to increase even more. Also, people\n",
    "with a BMI of 25+ have shown a higher chances of encountering a stroke.\n",
    "So,people with 40+ years and BMI of 25+ have a greater chances of encountering a stroke."
   ]
  },
  {
   "cell_type": "markdown",
   "id": "fca44a94",
   "metadata": {},
   "source": [
    "We always say that smoking is injurious to health.Is it true in stroke too? Could we say that the person who smokes has more chances of stroke?"
   ]
  },
  {
   "cell_type": "code",
   "execution_count": 215,
   "id": "865235c9",
   "metadata": {},
   "outputs": [
    {
     "data": {
      "text/plain": [
       "never smoked       1892\n",
       "Unknown            1544\n",
       "formerly smoked     885\n",
       "smokes              789\n",
       "Name: smoking_status, dtype: int64"
      ]
     },
     "execution_count": 215,
     "metadata": {},
     "output_type": "execute_result"
    }
   ],
   "source": [
    "stroke[\"smoking_status\"].value_counts()"
   ]
  },
  {
   "cell_type": "code",
   "execution_count": 216,
   "id": "030a2c64",
   "metadata": {},
   "outputs": [
    {
     "data": {
      "text/plain": [
       "stroke  smoking_status \n",
       "0       never smoked       1802\n",
       "        Unknown            1497\n",
       "        formerly smoked     815\n",
       "        smokes              747\n",
       "1       never smoked         90\n",
       "        formerly smoked      70\n",
       "        Unknown              47\n",
       "        smokes               42\n",
       "Name: smoking_status, dtype: int64"
      ]
     },
     "execution_count": 216,
     "metadata": {},
     "output_type": "execute_result"
    }
   ],
   "source": [
    "stroke.groupby(['stroke'])[\"smoking_status\"].value_counts()"
   ]
  },
  {
   "cell_type": "markdown",
   "id": "51554c56",
   "metadata": {},
   "source": [
    "In total 90 persons got stroke but they never smoked and of those who smoked , only 40 persos got stroke. So we can't say that only people who smoke get stroke. "
   ]
  },
  {
   "cell_type": "markdown",
   "id": "756b8012",
   "metadata": {},
   "source": [
    "Some people live in rural area and some people live in the city.Do people living in the urban have more chances of getting stroke?\n",
    "We will use value_counts() fuction on residence_type coloumn and groupby the result to check how residence and stroke are releted to each other?"
   ]
  },
  {
   "cell_type": "code",
   "execution_count": 217,
   "id": "2b200640",
   "metadata": {},
   "outputs": [
    {
     "data": {
      "text/plain": [
       "Urban    2596\n",
       "Rural    2514\n",
       "Name: Residence_type, dtype: int64"
      ]
     },
     "execution_count": 217,
     "metadata": {},
     "output_type": "execute_result"
    }
   ],
   "source": [
    "stroke[\"Residence_type\"].value_counts() # value_counts counts the each unique value in residence_type column"
   ]
  },
  {
   "cell_type": "markdown",
   "id": "d11f200a",
   "metadata": {},
   "source": [
    "In value_counts() function  normalize set to True.  So It returns the relative frequency by dividing all\n",
    "values by the sum of values. \n",
    "round() function round off the value upto one decimal."
   ]
  },
  {
   "cell_type": "code",
   "execution_count": 218,
   "id": "7d5142b6",
   "metadata": {},
   "outputs": [
    {
     "name": "stdout",
     "output_type": "stream",
     "text": [
      "       counts Percent\n",
      "Urban    2596   50.8%\n",
      "Rural    2514   49.2%\n"
     ]
    }
   ],
   "source": [
    "counts = stroke[\"Residence_type\"].value_counts()\n",
    "percent = stroke[\"Residence_type\"].value_counts(normalize=True).mul(100).round(1).astype(str) + '%'\n",
    "stroke_conditions=pd.DataFrame({'counts': counts, 'Percent': percent})\n",
    "\n",
    "print(stroke_conditions)"
   ]
  },
  {
   "cell_type": "markdown",
   "id": "c15d030e",
   "metadata": {},
   "source": [
    "Both rural and urban people have same chance of getting stroke because they have approximately same percentage of stroke.\n",
    "Now explore residence type with the hypertension. How both are related to each other ?"
   ]
  },
  {
   "cell_type": "code",
   "execution_count": 219,
   "id": "b24ec942",
   "metadata": {},
   "outputs": [
    {
     "data": {
      "text/plain": [
       "hypertension  stroke  Residence_type\n",
       "0             0       Urban             2248\n",
       "                      Rural             2181\n",
       "              1       Urban              101\n",
       "                      Rural               82\n",
       "1             0       Rural              219\n",
       "                      Urban              213\n",
       "              1       Urban               34\n",
       "                      Rural               32\n",
       "Name: Residence_type, dtype: int64"
      ]
     },
     "execution_count": 219,
     "metadata": {},
     "output_type": "execute_result"
    }
   ],
   "source": [
    "stroke.groupby(['hypertension', 'stroke'])[\"Residence_type\"].value_counts()"
   ]
  },
  {
   "cell_type": "markdown",
   "id": "837c9023",
   "metadata": {},
   "source": [
    "The stroke conditions in urban and rural have approximate same percentage.So we can say that residence type is not affecting stroke problem according to this dataset.But when we compared the Residence_type with the person who has already hpyertension problem, we found that rural 32 and urban 34 got stroke.There is no big difference between this data. So we can say that residence type is not affecting the chances of getting stroke."
   ]
  },
  {
   "cell_type": "markdown",
   "id": "9e637d24",
   "metadata": {},
   "source": [
    "## Results and analysis\n"
   ]
  },
  {
   "cell_type": "markdown",
   "id": "675506af",
   "metadata": {},
   "source": [
    "There are some  insights found in the stroke dataset:\n",
    "\n",
    "(1)By anlaysing the age data in this dataset we can say that older patient are more likely to suffer a stroke than a younger patient.\n",
    "\n",
    "(2)We can conclude that the higher proportion of patients who suffered from hypertension or heart disease experienced a stroke.The patients who already have heart diseses and hypertension have higher chances of stroke.\n",
    "\n",
    "(3)Patient's gender and where they lives doesn't seems to impact chances of getting stroke.\n",
    "\n",
    "(4)Analyzing the smoking status of patient reveal that smoking does not has direct connection with getting a stroke. So we can ignore this factor.\n",
    "\n",
    "(5)After analyzing the dataset, we can conclude that hypertension, age, heart_disease and work_type are impacting the chances of getting a stroke.\n"
   ]
  }
 ],
 "metadata": {
  "kernelspec": {
   "display_name": "Python 3 (ipykernel)",
   "language": "python",
   "name": "python3"
  },
  "language_info": {
   "codemirror_mode": {
    "name": "ipython",
    "version": 3
   },
   "file_extension": ".py",
   "mimetype": "text/x-python",
   "name": "python",
   "nbconvert_exporter": "python",
   "pygments_lexer": "ipython3",
   "version": "3.9.12"
  }
 },
 "nbformat": 4,
 "nbformat_minor": 5
}
